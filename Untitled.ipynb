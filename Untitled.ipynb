{
 "cells": [
  {
   "cell_type": "code",
   "execution_count": 7,
   "id": "a1d608e2",
   "metadata": {},
   "outputs": [
    {
     "ename": "AttributeError",
     "evalue": "'Counter' object has no attribute 'CANCELLED'",
     "output_type": "error",
     "traceback": [
      "\u001b[0;31m---------------------------------------------------------------------------\u001b[0m",
      "\u001b[0;31mAttributeError\u001b[0m                            Traceback (most recent call last)",
      "Input \u001b[0;32mIn [7]\u001b[0m, in \u001b[0;36m<module>\u001b[0;34m\u001b[0m\n\u001b[1;32m      3\u001b[0m steps \u001b[38;5;241m=\u001b[39m [\n\u001b[1;32m      4\u001b[0m     {\n\u001b[1;32m      5\u001b[0m         \u001b[38;5;124m\"\u001b[39m\u001b[38;5;124mstatus\u001b[39m\u001b[38;5;124m\"\u001b[39m: \u001b[38;5;124m\"\u001b[39m\u001b[38;5;124mCANCELLED\u001b[39m\u001b[38;5;124m\"\u001b[39m,\n\u001b[0;32m   (...)\u001b[0m\n\u001b[1;32m     12\u001b[0m     },\n\u001b[1;32m     13\u001b[0m ]\n\u001b[1;32m     15\u001b[0m aa \u001b[38;5;241m=\u001b[39m Counter([step[\u001b[38;5;124m\"\u001b[39m\u001b[38;5;124mstatus\u001b[39m\u001b[38;5;124m\"\u001b[39m] \u001b[38;5;28;01mfor\u001b[39;00m step \u001b[38;5;129;01min\u001b[39;00m steps])\n\u001b[0;32m---> 17\u001b[0m \u001b[43maa\u001b[49m\u001b[38;5;241;43m.\u001b[39;49m\u001b[43mCANCELLED\u001b[49m\n",
      "\u001b[0;31mAttributeError\u001b[0m: 'Counter' object has no attribute 'CANCELLED'"
     ]
    }
   ],
   "source": [
    "from collections import Counter\n",
    "\n",
    "steps = [\n",
    "    {\n",
    "        \"status\": \"CANCELLED\",\n",
    "    },\n",
    "    {\n",
    "        \"status\": \"CANCELLED\",\n",
    "    },\n",
    "    {\n",
    "        \"status\": \"CANCELLED\",\n",
    "    },\n",
    "]\n",
    "\n",
    "aa = Counter([step[\"status\"] for step in steps])\n",
    "\n",
    "aa.CANCELLED"
   ]
  }
 ],
 "metadata": {
  "kernelspec": {
   "display_name": "Python 3 (ipykernel)",
   "language": "python",
   "name": "python3"
  },
  "language_info": {
   "codemirror_mode": {
    "name": "ipython",
    "version": 3
   },
   "file_extension": ".py",
   "mimetype": "text/x-python",
   "name": "python",
   "nbconvert_exporter": "python",
   "pygments_lexer": "ipython3",
   "version": "3.9.13"
  }
 },
 "nbformat": 4,
 "nbformat_minor": 5
}
